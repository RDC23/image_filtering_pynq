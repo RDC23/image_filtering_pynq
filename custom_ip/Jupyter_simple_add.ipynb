{
 "cells": [
  {
   "cell_type": "markdown",
   "id": "b92bd6c4",
   "metadata": {},
   "source": [
    "# Custom Add Overlay"
   ]
  },
  {
   "cell_type": "code",
   "execution_count": 130,
   "id": "c12c7534",
   "metadata": {},
   "outputs": [],
   "source": [
    "from pynq import Overlay"
   ]
  },
  {
   "cell_type": "code",
   "execution_count": 81,
   "id": "f4a08536",
   "metadata": {},
   "outputs": [],
   "source": [
    "def to_signed(val, b):\n",
    "    signedVal = val - (2**b)*int(str((val)>>b-1))\n",
    "    return signedVal"
   ]
  },
  {
   "cell_type": "code",
   "execution_count": 4,
   "id": "5062ef68",
   "metadata": {},
   "outputs": [],
   "source": [
    "ol = Overlay(\"design_1_wrapper.bit\")"
   ]
  },
  {
   "cell_type": "code",
   "execution_count": 6,
   "id": "847b9b45",
   "metadata": {},
   "outputs": [],
   "source": [
    "ol?"
   ]
  },
  {
   "cell_type": "code",
   "execution_count": 8,
   "id": "36df4ec6",
   "metadata": {},
   "outputs": [],
   "source": [
    "simple_add = ol.simple_add_0"
   ]
  },
  {
   "cell_type": "code",
   "execution_count": 9,
   "id": "b51d7e0c",
   "metadata": {},
   "outputs": [
    {
     "data": {
      "text/plain": [
       "191"
      ]
     },
     "execution_count": 9,
     "metadata": {},
     "output_type": "execute_result"
    }
   ],
   "source": [
    "simple_add.write(0x00, 125)\n",
    "simple_add.write(0x04, 66)\n",
    "simple_add.read(0x08)"
   ]
  },
  {
   "cell_type": "code",
   "execution_count": 25,
   "id": "2451deff",
   "metadata": {},
   "outputs": [],
   "source": [
    "from pynq import DefaultIP\n",
    "\n",
    "class AddDriver(DefaultIP):\n",
    "    def __init__(self, description):\n",
    "        super().__init__(description = description)\n",
    "        \n",
    "    bindto = ['User_Company:SysGen:simple_add:1.0']\n",
    "    \n",
    "    def add(self, a, b):\n",
    "        self.write(0x00, a)\n",
    "        self.write(0x04, b)\n",
    "        return self.read(0x08)\n",
    "    "
   ]
  },
  {
   "cell_type": "code",
   "execution_count": 112,
   "id": "da41e696",
   "metadata": {},
   "outputs": [
    {
     "data": {
      "text/plain": [
       "4294967288"
      ]
     },
     "execution_count": 112,
     "metadata": {},
     "output_type": "execute_result"
    }
   ],
   "source": [
    "ol = Overlay(\"design_1_wrapper.bit\")\n",
    "simple_add2 = ol.simple_add_0\n",
    "output_s = simple_add2.add(-12, 4)\n",
    "output_s"
   ]
  },
  {
   "cell_type": "code",
   "execution_count": 113,
   "id": "d0082b62",
   "metadata": {},
   "outputs": [
    {
     "data": {
      "text/plain": [
       "'11111111111111111111111111111000'"
      ]
     },
     "execution_count": 113,
     "metadata": {},
     "output_type": "execute_result"
    }
   ],
   "source": [
    "format(output_s, 'b')"
   ]
  },
  {
   "cell_type": "code",
   "execution_count": 128,
   "id": "20af5c0c",
   "metadata": {},
   "outputs": [
    {
     "data": {
      "text/plain": [
       "-8"
      ]
     },
     "execution_count": 128,
     "metadata": {},
     "output_type": "execute_result"
    }
   ],
   "source": [
    "to_signed(output_s, 32)"
   ]
  },
  {
   "cell_type": "markdown",
   "id": "c4688fa3",
   "metadata": {},
   "source": [
    "### Convert the unsigned result to signed using the to_signed function"
   ]
  },
  {
   "cell_type": "code",
   "execution_count": 127,
   "id": "ffb93d25",
   "metadata": {},
   "outputs": [
    {
     "name": "stdout",
     "output_type": "stream",
     "text": [
      "20\n",
      "15\n",
      "-25\n",
      "26\n",
      "42\n",
      "-1\n"
     ]
    }
   ],
   "source": [
    "# test the to_signed function\n",
    "base = 20\n",
    "ints = [0, -5, -45, 6, 22 , -21]\n",
    "for i in range(len(ints)):\n",
    "    result = simple_add2.add(base,ints[i])\n",
    "    result_f = to_signed(result, 32)\n",
    "    print(result_f)\n",
    "    \n",
    "    "
   ]
  },
  {
   "cell_type": "code",
   "execution_count": null,
   "id": "58b70865",
   "metadata": {},
   "outputs": [],
   "source": []
  }
 ],
 "metadata": {
  "kernelspec": {
   "display_name": "Python 3",
   "language": "python",
   "name": "python3"
  },
  "language_info": {
   "codemirror_mode": {
    "name": "ipython",
    "version": 3
   },
   "file_extension": ".py",
   "mimetype": "text/x-python",
   "name": "python",
   "nbconvert_exporter": "python",
   "pygments_lexer": "ipython3",
   "version": "3.8.2"
  }
 },
 "nbformat": 4,
 "nbformat_minor": 5
}
