{
 "cells": [
  {
   "cell_type": "code",
   "execution_count": 1,
   "id": "a737a49e",
   "metadata": {},
   "outputs": [],
   "source": [
    "from PIL import Image\n",
    "import numpy as np"
   ]
  },
  {
   "cell_type": "code",
   "execution_count": 2,
   "id": "77aa7b49",
   "metadata": {},
   "outputs": [],
   "source": [
    "image_raw = Image.open(\"assets/cat.jpg\")"
   ]
  },
  {
   "cell_type": "code",
   "execution_count": 3,
   "id": "23065daf",
   "metadata": {},
   "outputs": [],
   "source": [
    "#image_raw"
   ]
  },
  {
   "cell_type": "code",
   "execution_count": 4,
   "id": "d2f4c1c4",
   "metadata": {},
   "outputs": [],
   "source": [
    "#IMG_SIZE = (1920,1080)\n",
    "IMG_SIZE = (500,500)\n",
    "\n",
    "# Resize and force to RGB colours\n",
    "image = image_raw.resize(IMG_SIZE).convert('RGB')\n",
    "\n",
    "# Interpret overlay?as a 3D array of bytes (uint8)\n",
    "image_array = np.array(image, dtype=np.uint8)\n",
    "\n",
    "# Add extra padding on the X and Y dimensions\n",
    "image_array_padded = np.pad(image_array, ((1,1),(1,1),(0,0)), 'symmetric')"
   ]
  },
  {
   "cell_type": "code",
   "execution_count": 5,
   "id": "a959a0ae",
   "metadata": {},
   "outputs": [
    {
     "data": {
      "application/javascript": [
       "\n",
       "try {\n",
       "require(['notebook/js/codecell'], function(codecell) {\n",
       "  codecell.CodeCell.options_default.highlight_modes[\n",
       "      'magic_text/x-csrc'] = {'reg':[/^%%microblaze/]};\n",
       "  Jupyter.notebook.events.one('kernel_ready.Kernel', function(){\n",
       "      Jupyter.notebook.get_cells().map(function(cell){\n",
       "          if (cell.cell_type == 'code'){ cell.auto_highlight(); } }) ;\n",
       "  });\n",
       "});\n",
       "} catch (e) {};\n"
      ]
     },
     "metadata": {},
     "output_type": "display_data"
    },
    {
     "data": {
      "application/javascript": [
       "\n",
       "try {\n",
       "require(['notebook/js/codecell'], function(codecell) {\n",
       "  codecell.CodeCell.options_default.highlight_modes[\n",
       "      'magic_text/x-csrc'] = {'reg':[/^%%pybind11/]};\n",
       "  Jupyter.notebook.events.one('kernel_ready.Kernel', function(){\n",
       "      Jupyter.notebook.get_cells().map(function(cell){\n",
       "          if (cell.cell_type == 'code'){ cell.auto_highlight(); } }) ;\n",
       "  });\n",
       "});\n",
       "} catch (e) {};\n"
      ]
     },
     "metadata": {},
     "output_type": "display_data"
    }
   ],
   "source": [
    "from pynq import Overlay\n",
    "from pynq import allocate\n",
    "#import pynq_sobel\n",
    "import os\n",
    "\n",
    "#bitstream = os.path.join(os.path.dirname(pynq_sobel.__file__), 'pynq_sobel', 'bitstream', 'pynq_sobel.bit')\n",
    "Sobel_Overlay = Overlay(\"sobel_wrapper.bit\")"
   ]
  },
  {
   "cell_type": "code",
   "execution_count": 6,
   "id": "6bb7b919",
   "metadata": {},
   "outputs": [],
   "source": [
    "Sobel_Overlay?"
   ]
  },
  {
   "cell_type": "code",
   "execution_count": 12,
   "id": "480d8d41",
   "metadata": {},
   "outputs": [],
   "source": [
    "# Input array for DMA use\n",
    "in_dma_array  = allocate(shape=(IMG_SIZE[1]+2, IMG_SIZE[0]+2, 4), dtype=np.uint8)\n",
    "\n",
    "# Output array for DMA use\n",
    "out_dma_array = allocate(shape=(IMG_SIZE[1],IMG_SIZE[0]), dtype=np.uint32)"
   ]
  },
  {
   "cell_type": "code",
   "execution_count": 16,
   "id": "5bb2128b",
   "metadata": {},
   "outputs": [],
   "source": [
    "def do_sobel(image_array, thresh=30):\n",
    "\n",
    "    # Set overlay threshold\n",
    "    Sobel_Overlay.axi_stream_sobel_fil_0.write(0, thresh)\n",
    "    \n",
    "    # Copy image array into dma buffer\n",
    "    in_dma_array[:, :, :3] = image_array[:, :, :]\n",
    "       \n",
    "Sobel_Overlay.axi_dma.sendchannel.wait()\n",
    "    Sobel_Overlay.axi_dma.recvchannel.wait()\n",
    "    # Perform DMA transfers in both directions\n",
    "    Sobel_Overlay.axi_dma.recvchannel.transfer(out_dma_array)\n",
    "    Sobel_Overlay.axi_dma.sendchannel.transfer(in_dma_array)\n",
    "    Sobel_Overlay.axi_dma.sendchannel.wait()\n",
    "    Sobel_Overlay.axi_dma.recvchannel.wait()\n",
    "    \n",
    "    # Return processed image array from PL \n",
    "    return out_dma_array"
   ]
  },
  {
   "cell_type": "code",
   "execution_count": 17,
   "id": "747ad17c",
   "metadata": {},
   "outputs": [
    {
     "ename": "RuntimeError",
     "evalue": "DMA channel not started",
     "output_type": "error",
     "traceback": [
      "\u001b[0;31m---------------------------------------------------------------------------\u001b[0m",
      "\u001b[0;31mRuntimeError\u001b[0m                              Traceback (most recent call last)",
      "\u001b[0;32m<timed exec>\u001b[0m in \u001b[0;36m<module>\u001b[0;34m\u001b[0m\n",
      "\u001b[0;32m<ipython-input-16-122701292410>\u001b[0m in \u001b[0;36mdo_sobel\u001b[0;34m(image_array, thresh)\u001b[0m\n\u001b[1;32m      8\u001b[0m \u001b[0;34m\u001b[0m\u001b[0m\n\u001b[1;32m      9\u001b[0m     \u001b[0;31m# Perform DMA transfers in both directions\u001b[0m\u001b[0;34m\u001b[0m\u001b[0;34m\u001b[0m\u001b[0;34m\u001b[0m\u001b[0m\n\u001b[0;32m---> 10\u001b[0;31m     \u001b[0mSobel_Overlay\u001b[0m\u001b[0;34m.\u001b[0m\u001b[0maxi_dma\u001b[0m\u001b[0;34m.\u001b[0m\u001b[0mrecvchannel\u001b[0m\u001b[0;34m.\u001b[0m\u001b[0mtransfer\u001b[0m\u001b[0;34m(\u001b[0m\u001b[0mout_dma_array\u001b[0m\u001b[0;34m)\u001b[0m\u001b[0;34m\u001b[0m\u001b[0;34m\u001b[0m\u001b[0m\n\u001b[0m\u001b[1;32m     11\u001b[0m     \u001b[0mSobel_Overlay\u001b[0m\u001b[0;34m.\u001b[0m\u001b[0maxi_dma\u001b[0m\u001b[0;34m.\u001b[0m\u001b[0msendchannel\u001b[0m\u001b[0;34m.\u001b[0m\u001b[0mtransfer\u001b[0m\u001b[0;34m(\u001b[0m\u001b[0min_dma_array\u001b[0m\u001b[0;34m)\u001b[0m\u001b[0;34m\u001b[0m\u001b[0;34m\u001b[0m\u001b[0m\n\u001b[1;32m     12\u001b[0m     \u001b[0mSobel_Overlay\u001b[0m\u001b[0;34m.\u001b[0m\u001b[0maxi_dma\u001b[0m\u001b[0;34m.\u001b[0m\u001b[0msendchannel\u001b[0m\u001b[0;34m.\u001b[0m\u001b[0mwait\u001b[0m\u001b[0;34m(\u001b[0m\u001b[0;34m)\u001b[0m\u001b[0;34m\u001b[0m\u001b[0;34m\u001b[0m\u001b[0m\n",
      "\u001b[0;32m/usr/local/share/pynq-venv/lib/python3.8/site-packages/pynq/lib/dma.py\u001b[0m in \u001b[0;36mtransfer\u001b[0;34m(self, array, start, nbytes)\u001b[0m\n\u001b[1;32m    170\u001b[0m         \"\"\"\n\u001b[1;32m    171\u001b[0m         \u001b[0;32mif\u001b[0m \u001b[0;32mnot\u001b[0m \u001b[0mself\u001b[0m\u001b[0;34m.\u001b[0m\u001b[0mrunning\u001b[0m\u001b[0;34m:\u001b[0m\u001b[0;34m\u001b[0m\u001b[0;34m\u001b[0m\u001b[0m\n\u001b[0;32m--> 172\u001b[0;31m             \u001b[0;32mraise\u001b[0m \u001b[0mRuntimeError\u001b[0m\u001b[0;34m(\u001b[0m\u001b[0;34m'DMA channel not started'\u001b[0m\u001b[0;34m)\u001b[0m\u001b[0;34m\u001b[0m\u001b[0;34m\u001b[0m\u001b[0m\n\u001b[0m\u001b[1;32m    173\u001b[0m         \u001b[0;32mif\u001b[0m \u001b[0;32mnot\u001b[0m \u001b[0mself\u001b[0m\u001b[0;34m.\u001b[0m\u001b[0midle\u001b[0m \u001b[0;32mand\u001b[0m \u001b[0;32mnot\u001b[0m \u001b[0mself\u001b[0m\u001b[0;34m.\u001b[0m\u001b[0m_first_transfer\u001b[0m\u001b[0;34m:\u001b[0m\u001b[0;34m\u001b[0m\u001b[0;34m\u001b[0m\u001b[0m\n\u001b[1;32m    174\u001b[0m             \u001b[0;32mraise\u001b[0m \u001b[0mRuntimeError\u001b[0m\u001b[0;34m(\u001b[0m\u001b[0;34m'DMA channel not idle'\u001b[0m\u001b[0;34m)\u001b[0m\u001b[0;34m\u001b[0m\u001b[0;34m\u001b[0m\u001b[0m\n",
      "\u001b[0;31mRuntimeError\u001b[0m: DMA channel not started"
     ]
    }
   ],
   "source": [
    "%time image_output = do_sobel(image_array_padded)"
   ]
  },
  {
   "cell_type": "code",
   "execution_count": null,
   "id": "c42de767",
   "metadata": {},
   "outputs": [],
   "source": [
    "Image.fromarray(np.uint8(image_output), mode='P')"
   ]
  },
  {
   "cell_type": "code",
   "execution_count": null,
   "id": "f0d26da2",
   "metadata": {},
   "outputs": [],
   "source": [
    "from pynq import Overlay\n",
    "from pynq import allocate\n",
    "#import pynq_sobel\n",
    "import os\n",
    "Kernel_Overlay = Overlay(\"Convolver_wrapper.bit\")"
   ]
  },
  {
   "cell_type": "code",
   "execution_count": null,
   "id": "836f615d",
   "metadata": {},
   "outputs": [],
   "source": [
    "Kernel_Overlay?"
   ]
  },
  {
   "cell_type": "code",
   "execution_count": null,
   "id": "128bbb3b",
   "metadata": {},
   "outputs": [],
   "source": [
    "# Input array for DMA use\n",
    "\n",
    "in_dma_array = Kernel_Overlay.axi_dma.sendchannel\n",
    "out_dma_arra = Kernel_Overlay.axi_dma.recvchannel\n",
    "\n",
    "in_dma_array  = allocate(shape=(IMG_SIZE[1], IMG_SIZE[0], 4), dtype=np.uint8)\n",
    "\n",
    "# Output array for DMA use\n",
    "out_dma_array = allocate(shape=(IMG_SIZE[1],IMG_SIZE[0]), dtype=np.uint32)"
   ]
  },
  {
   "cell_type": "code",
   "execution_count": null,
   "id": "3844e648",
   "metadata": {},
   "outputs": [],
   "source": [
    "def do_conv(image_array, thresh=30, Kernel = []):\n",
    "\n",
    "    # Set overlay threshold\n",
    "    Kernel_Overlay.general_filter_0.write(0x24, thresh)\n",
    "    \n",
    "    \n",
    "    Kernel_Overlay.general_filter_0.write(0x20, Kernel[0]) #W00 \n",
    "    Kernel_Overlay.general_filter_0.write(0x1C, Kernel[1]) #W01\n",
    "    Kernel_Overlay.general_filter_0.write(0x18, Kernel[2]) #W02\n",
    "    Kernel_Overlay.general_filter_0.write(0x14, Kernel[3]) #W10\n",
    "    Kernel_Overlay.general_filter_0.write(0x10, Kernel[4]) #W11\n",
    "    Kernel_Overlay.general_filter_0.write(0x0C, Kernel[5]) #W12\n",
    "    Kernel_Overlay.general_filter_0.write(0x08, Kernel[6]) #W20\n",
    "    Kernel_Overlay.general_filter_0.write(0x04, Kernel[7]) #W21\n",
    "    Kernel_Overlay.general_filter_0.write(0x00, Kernel[8]) #W22\n",
    "    \n",
    "    \n",
    "    # Copy image array into dma buffer\n",
    "    in_dma_array[:, :, :3] = image_array[:, :, :]\n",
    "       \n",
    "    # Perform DMA transfers in both directions\n",
    "    Kernel_Overlay.axi_dma.sendchannel.transfer(in_dma_array)\n",
    "    Kernel_Overlay.axi_dma.recvchannel.transfer(out_dma_array)\n",
    "    Kernel_Overlay.axi_dma.sendchannel.wait()\n",
    "    Kernel_Overlay.axi_dma.recvchannel.wait()\n",
    "    \n",
    "    # Return processed image array from PL \n",
    "    return out_dma_array"
   ]
  },
  {
   "cell_type": "code",
   "execution_count": null,
   "id": "a8f133a3",
   "metadata": {},
   "outputs": [],
   "source": [
    "Kernel = [0, -1, 0, -1, 5, -1, 0, -1, 0]"
   ]
  },
  {
   "cell_type": "code",
   "execution_count": null,
   "id": "480b09d9",
   "metadata": {},
   "outputs": [],
   "source": [
    "do_conv(image_array,30,Kernel)"
   ]
  },
  {
   "cell_type": "code",
   "execution_count": null,
   "id": "ab574d41",
   "metadata": {},
   "outputs": [],
   "source": [
    "image_array.size()"
   ]
  },
  {
   "cell_type": "code",
   "execution_count": null,
   "id": "5ba801e7",
   "metadata": {},
   "outputs": [],
   "source": [
    "image_array?"
   ]
  },
  {
   "cell_type": "code",
   "execution_count": null,
   "id": "b8f5e645",
   "metadata": {},
   "outputs": [],
   "source": [
    "image_array.size"
   ]
  },
  {
   "cell_type": "code",
   "execution_count": null,
   "id": "a05e16b9",
   "metadata": {},
   "outputs": [],
   "source": [
    "in_dma_array.size"
   ]
  },
  {
   "cell_type": "code",
   "execution_count": null,
   "id": "bf93e886",
   "metadata": {},
   "outputs": [],
   "source": []
  }
 ],
 "metadata": {
  "kernelspec": {
   "display_name": "Python 3",
   "language": "python",
   "name": "python3"
  },
  "language_info": {
   "codemirror_mode": {
    "name": "ipython",
    "version": 3
   },
   "file_extension": ".py",
   "mimetype": "text/x-python",
   "name": "python",
   "nbconvert_exporter": "python",
   "pygments_lexer": "ipython3",
   "version": "3.8.2"
  }
 },
 "nbformat": 4,
 "nbformat_minor": 5
}
