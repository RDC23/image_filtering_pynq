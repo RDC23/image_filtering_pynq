{
 "cells": [
  {
   "cell_type": "code",
   "execution_count": null,
   "id": "1f6e6bbf",
   "metadata": {},
   "outputs": [],
   "source": [
    "from PIL import Image\n",
    "import numpy as np"
   ]
  },
  {
   "cell_type": "code",
   "execution_count": null,
   "id": "0bb07879",
   "metadata": {},
   "outputs": [],
   "source": [
    "image_raw = Image.open(\"assets/cat.jpg\")"
   ]
  },
  {
   "cell_type": "code",
   "execution_count": null,
   "id": "b6ba0bc2",
   "metadata": {},
   "outputs": [],
   "source": [
    "IMG_SIZE = (1920,1080)\n",
    "\n",
    "# Resize and force to RGB colours\n",
    "image = image_raw.resize(IMG_SIZE).convert('RGB')\n",
    "\n",
    "# Interpret as a 3D array of bytes (uint8)\n",
    "image_array = np.array(image, dtype=np.uint8)\n",
    "\n",
    "# Add extra padding on the X and Y dimensions\n",
    "image_array_padded = np.pad(image_array, ((1,1),(1,1),(0,0)), 'symmetric')"
   ]
  },
  {
   "cell_type": "code",
   "execution_count": null,
   "id": "d1c3a791",
   "metadata": {},
   "outputs": [],
   "source": [
    "Image.fromarray(image_array_padded, 'RGB')"
   ]
  },
  {
   "cell_type": "code",
   "execution_count": null,
   "id": "cea274b2",
   "metadata": {},
   "outputs": [],
   "source": [
    "from pynq import Overlay\n",
    "from pynq import allocate\n",
    "#import pynq_sobel\n",
    "import os\n",
    "Sobel_Overlay = Overlay(\"sobel_wrapper.bit\")"
   ]
  },
  {
   "cell_type": "code",
   "execution_count": null,
   "id": "bbbae7f4",
   "metadata": {},
   "outputs": [],
   "source": [
    "Sobel_Overlay?"
   ]
  },
  {
   "cell_type": "code",
   "execution_count": null,
   "id": "170d48e0",
   "metadata": {},
   "outputs": [],
   "source": [
    "# Input array for DMA use\n",
    "sobel_in_dma_array  = allocate(shape=(IMG_SIZE[1]+2, IMG_SIZE[0]+2, 4), dtype=np.uint8)\n",
    "\n",
    "# Output array for DMA use\n",
    "sobel_out_dma_array = allocate(shape=(IMG_SIZE[1],IMG_SIZE[0]), dtype=np.uint32)"
   ]
  },
  {
   "cell_type": "code",
   "execution_count": null,
   "id": "79128e56",
   "metadata": {},
   "outputs": [],
   "source": [
    "def do_sobel(image_array, thresh=30):\n",
    "\n",
    "    # Set overlay threshold\n",
    "    Sobel_Overlay.axi_stream_sobel_fil_0.write(0, thresh)\n",
    "    \n",
    "    # Copy image array into dma buffer\n",
    "    sobel_in_dma_array[:, :, :3] = image_array[:, :, :]\n",
    "       \n",
    "    # Perform DMA transfers in both directions\n",
    "    Sobel_Overlay.axi_dma.recvchannel.transfer(sobel_out_dma_array)\n",
    "    Sobel_Overlay.axi_dma.sendchannel.transfer(sobel_in_dma_array)\n",
    "    Sobel_Overlay.axi_dma.sendchannel.wait()\n",
    "    Sobel_Overlay.axi_dma.recvchannel.wait()\n",
    "    \n",
    "    # Return processed image array from PL \n",
    "    return sobel_out_dma_array"
   ]
  },
  {
   "cell_type": "code",
   "execution_count": null,
   "id": "2b385622",
   "metadata": {},
   "outputs": [],
   "source": [
    "%time image_output = do_sobel(image_array_padded)"
   ]
  },
  {
   "cell_type": "code",
   "execution_count": null,
   "id": "f5d333b4",
   "metadata": {},
   "outputs": [],
   "source": [
    "Kernel_Overlay = Overlay(\"Convolver_wrapper.bit\")"
   ]
  },
  {
   "cell_type": "code",
   "execution_count": null,
   "id": "fc95ddb1",
   "metadata": {},
   "outputs": [],
   "source": [
    "Kernel_Overlay?"
   ]
  },
  {
   "cell_type": "code",
   "execution_count": null,
   "id": "7fd10cef",
   "metadata": {},
   "outputs": [],
   "source": [
    "# Input array for DMA use\n",
    "kernel_in_dma_array  = allocate(shape=(IMG_SIZE[1], IMG_SIZE[0], 4), dtype=np.uint8)\n",
    "\n",
    "# Output array for DMA use\n",
    "kernel_out_dma_array = allocate(shape=(IMG_SIZE[1],IMG_SIZE[0]), dtype=np.uint32)"
   ]
  },
  {
   "cell_type": "code",
   "execution_count": null,
   "id": "194ddcf1",
   "metadata": {},
   "outputs": [],
   "source": [
    "def do_conv(image_array, thresh=30,Kernel = [0, -1, 0, -1, 5, -1, 0, -1, 0]):\n",
    "\n",
    "    # Set overlay threshold\n",
    "    Kernel_Overlay.general_filter_0.write(0x24, thresh)\n",
    "    \n",
    "    \n",
    "    Kernel_Overlay.general_filter_0.write(0x20, Kernel[0]) #W00 \n",
    "    Kernel_Overlay.general_filter_0.write(0x1C, Kernel[1]) #W01\n",
    "    Kernel_Overlay.general_filter_0.write(0x18, Kernel[2]) #W02\n",
    "    Kernel_Overlay.general_filter_0.write(0x14, Kernel[3]) #W10\n",
    "    Kernel_Overlay.general_filter_0.write(0x10, Kernel[4]) #W11\n",
    "    Kernel_Overlay.general_filter_0.write(0x0C, Kernel[5]) #W12\n",
    "    Kernel_Overlay.general_filter_0.write(0x08, Kernel[6]) #W20\n",
    "    Kernel_Overlay.general_filter_0.write(0x04, Kernel[7]) #W21\n",
    "    Kernel_Overlay.general_filter_0.write(0x00, Kernel[8]) #W22\n",
    "    \n",
    "    \n",
    "    # Copy image array into dma buffer\n",
    "    kernel_in_dma_array[:, :, :3] = image_array[:, :, :]\n",
    "    \n",
    "    \n",
    "    Kernel_Overlay.axi_dma.recvchannel.transfer(kernel_out_dma_array)\n",
    "    Kernel_Overlay.axi_dma.sendchannel.transfer(kernel_in_dma_array)\n",
    "    Kernel_Overlay.axi_dma.sendchannel.wait()\n",
    "    Kernel_Overlay.axi_dma.recvchannel.wait()\n",
    "    \n",
    "    return kernel_out_dma_array\n",
    "    "
   ]
  },
  {
   "cell_type": "code",
   "execution_count": null,
   "id": "05235b98",
   "metadata": {},
   "outputs": [],
   "source": [
    "Kernel = [0, -1, 0, -1, 5, -1, 0, -1, 0]"
   ]
  },
  {
   "cell_type": "code",
   "execution_count": null,
   "id": "c00f5dc9",
   "metadata": {},
   "outputs": [],
   "source": [
    "do_conv(image_array,30,Kernel)"
   ]
  },
  {
   "cell_type": "code",
   "execution_count": null,
   "id": "f6c9dd9d",
   "metadata": {},
   "outputs": [],
   "source": []
  }
 ],
 "metadata": {
  "kernelspec": {
   "display_name": "Python 3",
   "language": "python",
   "name": "python3"
  },
  "language_info": {
   "codemirror_mode": {
    "name": "ipython",
    "version": 3
   },
   "file_extension": ".py",
   "mimetype": "text/x-python",
   "name": "python",
   "nbconvert_exporter": "python",
   "pygments_lexer": "ipython3",
   "version": "3.8.2"
  }
 },
 "nbformat": 4,
 "nbformat_minor": 5
}
